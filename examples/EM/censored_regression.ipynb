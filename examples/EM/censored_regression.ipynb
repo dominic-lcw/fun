{
 "cells": [
  {
   "cell_type": "code",
   "execution_count": null,
   "id": "08203a1c-cb2d-42ea-a591-12066a2b22ba",
   "metadata": {
    "tags": []
   },
   "outputs": [],
   "source": [
    "import fun.em.em as em\n",
    "from util.math.linear import (\n",
    "    column_vector, column_indicator, inner_product\n",
    ")\n",
    "\n",
    "import numpy as np\n",
    "from numpy.linalg import inv\n",
    "import pandas as pd\n",
    "from scipy.stats import norm\n",
    "import matplotlib.pyplot as plt\n",
    "import patsy"
   ]
  },
  {
   "cell_type": "markdown",
   "id": "5e1bd727",
   "metadata": {},
   "source": [
    "# Import Sample Data from ISLP"
   ]
  },
  {
   "cell_type": "code",
   "execution_count": null,
   "id": "41799760",
   "metadata": {},
   "outputs": [],
   "source": [
    "from ISLP import load_data"
   ]
  },
  {
   "cell_type": "code",
   "execution_count": null,
   "id": "1a36bb6b",
   "metadata": {},
   "outputs": [],
   "source": [
    "# We use the Boston Housing Data from the module ISLP.\n",
    "# medv is median house value, what we want to predict.\n",
    "# \n",
    "# We only select subset of predictors.\n",
    "# rm: average number of rooms\n",
    "# age: proportion of owner-occupied units built prior to 1940\n",
    "# lstat: percentage of households with low socioeconomic status\n",
    "\n",
    "boston = load_data(\"Boston\")\n",
    "boston.head()"
   ]
  },
  {
   "cell_type": "code",
   "execution_count": null,
   "id": "ab2a9e50",
   "metadata": {},
   "outputs": [],
   "source": [
    "# We use patsy for dmatrices, which behaves similarly as numpy\n",
    "X, A = patsy.dmatrices(\"medv~rm+age+lstat-1\", boston) #we use X, A to be consistent with the notes.\n",
    "print(X.shape)\n",
    "print(A.shape)\n",
    "beta_lr = inv(A.T@A)@A.T@X\n",
    "print(\"Trained Beta\", np.round(beta_lr.T, 2))"
   ]
  },
  {
   "cell_type": "markdown",
   "id": "f3974a65",
   "metadata": {},
   "source": [
    "# Censored Regression\n",
    "## Fake Data Generation\n",
    "Following the book, $X = A\\beta + U$. But only $Y_i = \\min(X_i, c_i)$ is observed."
   ]
  },
  {
   "cell_type": "code",
   "execution_count": null,
   "id": "ac8afffb",
   "metadata": {},
   "outputs": [],
   "source": [
    "np.random.seed(2)\n",
    "n = X.shape[0]\n",
    "beta = column_vector([3, 2, -0.9])\n",
    "sigma = 10\n",
    "U = column_vector(np.random.normal(0, 1, n))\n",
    "\n",
    "X_true = A@beta + sigma * U"
   ]
  },
  {
   "cell_type": "code",
   "execution_count": null,
   "id": "66cb6d75",
   "metadata": {},
   "outputs": [],
   "source": [
    "np.random.seed(2)\n",
    "c = column_vector(np.random.binomial(1, 0.5, n)) * 0.7 # 40% cencsored to be 70%\n",
    "c[c == 0] = X_true[c == 0] * 10 # censored\n",
    "C = X_true * c \n",
    "Y = np.minimum(X_true, C  ) # IMPORTANT!! Assumed that all X_true are positive"
   ]
  },
  {
   "cell_type": "code",
   "execution_count": null,
   "id": "805e9294",
   "metadata": {},
   "outputs": [],
   "source": [
    "plt.plot(X_true)\n",
    "plt.plot(np.where(Y< X_true, Y, -np.inf))"
   ]
  },
  {
   "cell_type": "markdown",
   "id": "35239b2a-78b0-44b8-9acb-9aa4df53af5e",
   "metadata": {},
   "source": [
    "## Train with Linear Regression Method"
   ]
  },
  {
   "cell_type": "code",
   "execution_count": null,
   "id": "87103b48-b877-46e8-b17c-bf611d34bda8",
   "metadata": {
    "tags": []
   },
   "outputs": [],
   "source": [
    "beta_lr = inv(A.T@A)@A.T@Y\n",
    "print(\"Trained\", np.round(beta_lr.T, 2))\n",
    "print(\"True\", beta.T)\n",
    "print(\"It differs quite a lot.\")"
   ]
  },
  {
   "cell_type": "markdown",
   "id": "e51d39b4",
   "metadata": {},
   "source": [
    "## Train with Censored Regression Method"
   ]
  },
  {
   "cell_type": "code",
   "execution_count": null,
   "id": "a612f0b5-9069-4503-9a5d-319524718260",
   "metadata": {
    "tags": []
   },
   "outputs": [],
   "source": [
    "def get_H(v):\n",
    "    a =  norm.pdf(v) / (1 - norm.cdf(v))\n",
    "    return a\n",
    "\n",
    "def get_Hn(c, A, beta_n, sigma_n, In):\n",
    "    return get_H((c - A@beta_n)/sigma_n * In)\n",
    "\n",
    "def get_In(C, Y):\n",
    "    return column_indicator(C == Y)\n",
    "\n",
    "def get_bar_S(C, A, beta_n, sigma_n, In, Hn):\n",
    "    out = (A@beta_n + (sigma_n**2) * np.ones(C.shape) + sigma_n* (C + A@beta_n) * Hn) * In\n",
    "    return np.where(np.isnan(out), 0, out)\n",
    "\n",
    "def get_S(Y, In):\n",
    "    return Y * (1 - In)\n",
    "\n",
    "def get_expectation_X(A, beta_n, sigma_n, In, Hn, S):\n",
    "    temp = (A@beta_n + sigma_n * Hn) * In\n",
    "    temp = np.where(np.isnan(temp), 0, temp)\n",
    "    return temp + S\n",
    "\n",
    "def get_expectation_X2(bar_S, S):\n",
    "    return (inner_product(bar_S, bar_S) + inner_product(S, S))"
   ]
  },
  {
   "cell_type": "code",
   "execution_count": null,
   "id": "a8c8d9bf",
   "metadata": {},
   "outputs": [],
   "source": [
    "bar_S = get_bar_S(C, A, beta_lr, sigma, In, Hn)\n",
    "S = get_S(Y, In)"
   ]
  },
  {
   "cell_type": "code",
   "execution_count": null,
   "id": "7a87609a",
   "metadata": {},
   "outputs": [],
   "source": [
    "E_X = get_expectation_X(A, beta_lr, sigma, In, Hn, S)"
   ]
  },
  {
   "cell_type": "code",
   "execution_count": null,
   "id": "100ba5bb",
   "metadata": {},
   "outputs": [],
   "source": [
    "beta_np1 = inv(A.T@A)@A.T@E_X"
   ]
  },
  {
   "cell_type": "code",
   "execution_count": null,
   "id": "87bb1af6-9e7f-44cf-8544-228da3777e33",
   "metadata": {
    "tags": []
   },
   "outputs": [],
   "source": [
    "def update_em(data, theta):\n",
    "    # Reading data\n",
    "    y, c, A = data\n",
    "    m = A.shape[1]\n",
    "\n",
    "    # Load paramter\n",
    "    beta_n, sigma2_n = column_vector(theta[:m]), theta[m]\n",
    "    sigma_n = np.sqrt(sigma2_n)\n",
    "\n",
    "    # Compute\n",
    "    In = get_In(c, y)\n",
    "    \n",
    "    Hn =  get_Hn(c, A, beta_n, sigma_n, In)\n",
    "    Hn = np.where(np.isinf(Hn), 3, Hn)\n",
    "\n",
    "    # Compute S\n",
    "    bar_S = get_bar_S(C, A, beta_n, sigma, In, Hn)\n",
    "    S = get_S(Y, In)\n",
    "\n",
    "    # Compute Expectation\n",
    "    E_X = get_expectation_X(A, beta_n, sigma, In, Hn, S)\n",
    "    E_X2 = get_expectation_X2(bar_S, S)\n",
    "    \n",
    "\n",
    "    beta_np1 = inv(A.T@A)@A.T@E_X\n",
    "\n",
    "    # Compute\n",
    "    r = Y.shape[0]\n",
    "    sigma2_np1 =  1/r * (\n",
    "            inner_product(A@beta_np1, A@beta_np1) \n",
    "            - 2 * inner_product( A@beta_np1,E_X)\n",
    "            + E_X2\n",
    "    )\n",
    "    theta_np1 = np.append(beta_np1, sigma2_np1)\n",
    "    print(theta_np1)\n",
    "    return theta_np1"
   ]
  },
  {
   "cell_type": "code",
   "execution_count": null,
   "id": "59e119d7-32d2-4f20-8965-4352f5499910",
   "metadata": {
    "tags": []
   },
   "outputs": [],
   "source": [
    "data = (Y, C, A)\n",
    "theta0 = np.append(beta_lr, 30)\n",
    "theta = theta0\n",
    "print(\"theta0\", theta0)\n",
    "print(\"theta0\", beta.T)"
   ]
  },
  {
   "cell_type": "code",
   "execution_count": null,
   "id": "8bd86db2",
   "metadata": {},
   "outputs": [],
   "source": [
    "y, c, A = data\n",
    "m = A.shape[1]\n",
    "\n",
    "# Load paramter\n",
    "beta_n, sigma2_n = column_vector(theta[:m]), theta[m]\n",
    "sigma_n = np.sqrt(sigma2_n)\n",
    "\n",
    "# Compute\n",
    "In = get_In(c, y)\n",
    "Hn =  get_Hn(c, A, beta_n, sigma_n, In)\n",
    "Hn = np.where(np.isinf(Hn), 3, Hn)\n",
    "\n",
    "# Compute S\n",
    "bar_S = get_bar_S(C, A, beta_n, sigma, In, Hn)\n",
    "S = get_S(Y, In)\n",
    "\n",
    "# Compute Expectation\n",
    "E_X = get_expectation_X(A, beta_n, sigma, In, Hn, S)\n",
    "E_X2 = get_expectation_X2(bar_S, S)"
   ]
  },
  {
   "cell_type": "code",
   "execution_count": null,
   "id": "00c7824f-a4f0-47e9-ac89-f3dbccca5c3a",
   "metadata": {
    "tags": []
   },
   "outputs": [],
   "source": [
    "model = em.EM(n_iter = 200)\n",
    "model.load(data, update_em)\n",
    "a = model.fit(theta0)"
   ]
  },
  {
   "cell_type": "code",
   "execution_count": null,
   "id": "0d3c8401",
   "metadata": {},
   "outputs": [],
   "source": [
    "plt.plot(a)\n",
    "plt.grid(True)"
   ]
  },
  {
   "cell_type": "code",
   "execution_count": null,
   "id": "5f1020c8",
   "metadata": {},
   "outputs": [],
   "source": []
  }
 ],
 "metadata": {
  "kernelspec": {
   "display_name": "Python 3 (ipykernel)",
   "language": "python",
   "name": "python3"
  },
  "language_info": {
   "codemirror_mode": {
    "name": "ipython",
    "version": 3
   },
   "file_extension": ".py",
   "mimetype": "text/x-python",
   "name": "python",
   "nbconvert_exporter": "python",
   "pygments_lexer": "ipython3",
   "version": "3.11.9"
  }
 },
 "nbformat": 4,
 "nbformat_minor": 5
}
