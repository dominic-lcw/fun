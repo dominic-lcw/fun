{
 "cells": [
  {
   "cell_type": "markdown",
   "id": "71c51dd4-614a-4391-b6ac-f7ef8d729d3d",
   "metadata": {},
   "source": [
    "# Problem Setting\n",
    "Notice that $\\theta = (\\mu_0, \\mu_1, \\sigma_0, \\sigma_1, p)$ are the parameters. We pre-estimate or fix $\\sigma_0, \\sigma_1, p$, and only estimate $\\mu_0, \\mu_1$."
   ]
  },
  {
   "cell_type": "code",
   "execution_count": 1,
   "id": "0a6ac6cc-f594-4348-b30f-73774fce20b4",
   "metadata": {
    "tags": []
   },
   "outputs": [],
   "source": [
    "import fun.EM.em as em\n",
    "import importlib\n",
    "importlib.reload(em)\n",
    "\n",
    "import numpy as np\n",
    "from scipy.stats import norm\n",
    "import matplotlib.pyplot as plt"
   ]
  },
  {
   "cell_type": "code",
   "execution_count": 2,
   "id": "80e21a7d-2353-4536-913c-49b834120790",
   "metadata": {
    "tags": []
   },
   "outputs": [],
   "source": [
    "n = max(1000, 200)\n",
    "\n",
    "## Fixed Parameters\n",
    "sigma_0 = sigma_1 = 10\n",
    "p = 1/2\n",
    "\n",
    "## True Model\n",
    "mu_0 = 150\n",
    "mu_1 = 160\n",
    "\n",
    "np.random.seed(0)\n",
    "y0 = np.random.normal(mu_0, sigma_0, size = n)\n",
    "y1 = np.random.normal(mu_1, sigma_1, size = n)\n",
    "y = np.concatenate([y0, y1])"
   ]
  },
  {
   "cell_type": "code",
   "execution_count": 3,
   "id": "2df718fe-4ba1-48da-8749-0756990cc423",
   "metadata": {
    "tags": []
   },
   "outputs": [
    {
     "data": {
      "image/png": "[encoded data removed]",
      "text/plain": [
       "<Figure size 1000x400 with 2 Axes>"
      ]
     },
     "metadata": {},
     "output_type": "display_data"
    }
   ],
   "source": [
    "plt.figure(figsize = (10, 4))\n",
    "ax = plt.subplot(121)\n",
    "plt.hist(y0, bins = 30, alpha = 0.5, label = \"Mean = 150\")\n",
    "plt.hist(y1, bins = 30, alpha = 0.5,color = 'red', label = \"Mean = 160\")\n",
    "plt.title(f\"Unobserved data with n = {2*n}\")\n",
    "\n",
    "ax = plt.subplot(122)\n",
    "plt.hist(y, bins = 30, alpha = 0.5, label = \"Mean = 150\")\n",
    "plt.title(f\"Observed data with n = {2*n}\");"
   ]
  },
  {
   "cell_type": "markdown",
   "id": "3866bb8c-1345-413d-96b4-c10153427663",
   "metadata": {
    "tags": []
   },
   "source": [
    "# Training the Model"
   ]
  },
  {
   "cell_type": "code",
   "execution_count": 4,
   "id": "65a97a5f-4ec4-4617-a4fe-f44d4956e05f",
   "metadata": {
    "tags": []
   },
   "outputs": [],
   "source": [
    "n = 50\n",
    "\n",
    "## Fixed Parameters\n",
    "sigma0 = sigma1 = 10\n",
    "p = 1/2\n",
    "\n",
    "## True Model\n",
    "mu0 = 150\n",
    "mu1 = 160\n",
    "\n",
    "np.random.seed(0)\n",
    "y0 = np.random.normal(mu0, sigma0, size = n)\n",
    "y1 = np.random.normal(mu1, sigma1, size = n)\n",
    "y = np.concatenate([y0, y1])\n",
    "\n",
    "np.random.seed(0)\n",
    "random_order = np.random.permutation(2*n)\n",
    "z = np.concatenate([np.ones(n), np.zeros(n)])\n",
    "y = y[random_order]\n",
    "z = z[random_order]"
   ]
  },
  {
   "cell_type": "markdown",
   "id": "403d6409-f1f6-42cb-a875-f7cb91910a7a",
   "metadata": {},
   "source": [
    "## Suppose that we only observe Y"
   ]
  },
  {
   "cell_type": "code",
   "execution_count": 5,
   "id": "cedfc280-60ad-4841-ab53-ef564150836f",
   "metadata": {
    "tags": []
   },
   "outputs": [
    {
     "name": "stdout",
     "output_type": "stream",
     "text": [
      "155.59808015534486\n"
     ]
    }
   ],
   "source": [
    "muhat0 = np.mean(y)     # Initial guess\n",
    "muhat1 = np.mean(y) # Initial guess\n",
    "print(muhat1)"
   ]
  },
  {
   "cell_type": "code",
   "execution_count": 6,
   "id": "02a34b27-b884-4f0e-88fb-e9338f61dda4",
   "metadata": {
    "tags": []
   },
   "outputs": [],
   "source": [
    "def get_tau( y, mu0, mu_1, sigma0 = 1, sigma1 = 1, p = 1/2):\n",
    "    phi0 = norm.pdf(y, mu0, sigma0)\n",
    "    phi1 = norm.pdf(y, mu1, sigma1) \n",
    "    \n",
    "    x =  phi1 * p / (phi1 * p + phi0 * (1-p))\n",
    "    return x"
   ]
  },
  {
   "cell_type": "code",
   "execution_count": 7,
   "id": "01b5bbb5-fd5d-47d1-99ad-18f91d12af84",
   "metadata": {
    "tags": []
   },
   "outputs": [],
   "source": [
    "def update_em(y, theta):\n",
    "    mu0_j, mu1_j, sigma0, sigma1, p = theta\n",
    "    \n",
    "    tau = get_tau(y, mu0_j, mu1_j, sigma0, sigma1, p)\n",
    "    \n",
    "    mu0_jp1 = np.sum(y * (1 - tau))/ np.sum( 1-tau )\n",
    "    mu1_jp1 = np.sum( tau * y) / np.sum(tau )\n",
    "    \n",
    "    return (mu0_jp1, mu1_jp1, sigma_0, sigma_1, p)"
   ]
  },
  {
   "cell_type": "code",
   "execution_count": 8,
   "id": "53680de5-d9d9-4446-af54-ba8b7f101379",
   "metadata": {
    "tags": []
   },
   "outputs": [],
   "source": [
    "theta0 = np.array((muhat0, muhat1+1, 10, 10, 1/2))"
   ]
  },
  {
   "cell_type": "code",
   "execution_count": 9,
   "id": "916683f4-b2e6-4b08-abeb-c661d83f1a14",
   "metadata": {
    "tags": []
   },
   "outputs": [
    {
     "name": "stdout",
     "output_type": "stream",
     "text": [
      "Optimization Succeeded\n"
     ]
    }
   ],
   "source": [
    "model = em.EM()\n",
    "model.load(y, update_em)\n",
    "a = model.fit(theta0)"
   ]
  },
  {
   "cell_type": "code",
   "execution_count": 10,
   "id": "ed21ebf0-fae1-4508-891e-b0ae08dc86e7",
   "metadata": {
    "tags": []
   },
   "outputs": [
    {
     "name": "stdout",
     "output_type": "stream",
     "text": [
      "mu0 (True: 150): 151.1770906968716, \n",
      "mu1 (True: 160): 159.96429536464942\n",
      "Feel free to alter n to look at the results\n"
     ]
    }
   ],
   "source": [
    "mu0_em, mu1_em = a[-1,:2]\n",
    "print(f\"mu0 (True: {mu0}): {mu0_em}, \\nmu1 (True: {mu1}): {mu1_em}\")\n",
    "print(\"Feel free to alter n to look at the results\")"
   ]
  },
  {
   "cell_type": "code",
   "execution_count": null,
   "id": "129fbf94-bdef-43c3-b5be-43d3e148948b",
   "metadata": {},
   "outputs": [],
   "source": []
  },
  {
   "cell_type": "code",
   "execution_count": null,
   "id": "f06769b4-0fc8-448b-b57a-fe50cfc1b8d9",
   "metadata": {},
   "outputs": [],
   "source": []
  },
  {
   "cell_type": "code",
   "execution_count": null,
   "id": "2685bb71-4df1-4875-9148-99924703fcd7",
   "metadata": {},
   "outputs": [],
   "source": []
  },
  {
   "cell_type": "code",
   "execution_count": null,
   "id": "9d81014f-0153-487a-bf0b-bb732452c2c4",
   "metadata": {},
   "outputs": [],
   "source": []
  },
  {
   "cell_type": "code",
   "execution_count": null,
   "id": "a76ec4d4-7181-4b2b-9cc9-4d3b2da66d8e",
   "metadata": {},
   "outputs": [],
   "source": []
  },
  {
   "cell_type": "code",
   "execution_count": null,
   "id": "8b30e73e-1f4b-4831-a813-03af4275ef67",
   "metadata": {},
   "outputs": [],
   "source": []
  }
 ],
 "metadata": {
  "kernelspec": {
   "display_name": "Python 3 (ipykernel)",
   "language": "python",
   "name": "python3"
  },
  "language_info": {
   "codemirror_mode": {
    "name": "ipython",
    "version": 3
   },
   "file_extension": ".py",
   "mimetype": "text/x-python",
   "name": "python",
   "nbconvert_exporter": "python",
   "pygments_lexer": "ipython3",
   "version": "3.9.15"
  }
 },
 "nbformat": 4,
 "nbformat_minor": 5
}
