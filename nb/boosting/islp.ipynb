{
 "cells": [
  {
   "cell_type": "code",
   "execution_count": 1,
   "id": "2aebd023-2ab1-45b8-83e5-75d2c6eb0ccf",
   "metadata": {
    "execution": {
     "iopub.execute_input": "2024-05-01T14:13:33.204682Z",
     "iopub.status.busy": "2024-05-01T14:13:33.204592Z",
     "iopub.status.idle": "2024-05-01T14:13:34.221455Z",
     "shell.execute_reply": "2024-05-01T14:13:34.221186Z",
     "shell.execute_reply.started": "2024-05-01T14:13:33.204673Z"
    }
   },
   "outputs": [],
   "source": [
    "import numpy as np\n",
    "import pandas as pd\n",
    "import patsy\n",
    "\n",
    "import matplotlib.pyplot as plt\n",
    "from matplotlib.pyplot import subplots\n",
    "from statsmodels.datasets import get_rdataset\n",
    "import sklearn.model_selection as skm\n",
    "from ISLP import load_data, confusion_table\n",
    "from ISLP.models import ModelSpec as MS"
   ]
  },
  {
   "cell_type": "code",
   "execution_count": 2,
   "id": "f5422672-0943-4bbc-8145-8d73811b5112",
   "metadata": {
    "execution": {
     "iopub.execute_input": "2024-05-01T14:13:34.221944Z",
     "iopub.status.busy": "2024-05-01T14:13:34.221822Z",
     "iopub.status.idle": "2024-05-01T14:13:34.264112Z",
     "shell.execute_reply": "2024-05-01T14:13:34.263782Z",
     "shell.execute_reply.started": "2024-05-01T14:13:34.221936Z"
    }
   },
   "outputs": [],
   "source": [
    "from sklearn.tree import (DecisionTreeClassifier as DTC,\n",
    "                            DecisionTreeRegressor as DTR,\n",
    "                            plot_tree,\n",
    "                            export_text)\n",
    "from sklearn.metrics import (accuracy_score, log_loss)\n",
    "from sklearn.ensemble import \\\n",
    "    (RandomForestRegressor as RF,\n",
    "    GradientBoostingRegressor as GBR)\n",
    "from ISLP.bart import BART"
   ]
  },
  {
   "cell_type": "markdown",
   "id": "67dc332b-3c63-4391-b675-fef18d1c3097",
   "metadata": {},
   "source": [
    "# Loading\n",
    "Run either one of Stock Data or Carseats Data"
   ]
  },
  {
   "cell_type": "markdown",
   "id": "e6b980f1-1aa4-489c-aced-d1530537910e",
   "metadata": {},
   "source": [
    "## Stock Data"
   ]
  },
  {
   "cell_type": "code",
   "execution_count": 20,
   "id": "abe6342c-b8f9-46a0-9ab5-54522b25365e",
   "metadata": {
    "execution": {
     "iopub.execute_input": "2024-05-01T14:16:53.692657Z",
     "iopub.status.busy": "2024-05-01T14:16:53.691893Z",
     "iopub.status.idle": "2024-05-01T14:16:53.731421Z",
     "shell.execute_reply": "2024-05-01T14:16:53.731000Z",
     "shell.execute_reply.started": "2024-05-01T14:16:53.692609Z"
    }
   },
   "outputs": [
    {
     "data": {
      "text/html": [
       "<div>\n",
       "<style scoped>\n",
       "    .dataframe tbody tr th:only-of-type {\n",
       "        vertical-align: middle;\n",
       "    }\n",
       "\n",
       "    .dataframe tbody tr th {\n",
       "        vertical-align: top;\n",
       "    }\n",
       "\n",
       "    .dataframe thead th {\n",
       "        text-align: right;\n",
       "    }\n",
       "</style>\n",
       "<table border=\"1\" class=\"dataframe\">\n",
       "  <thead>\n",
       "    <tr style=\"text-align: right;\">\n",
       "      <th></th>\n",
       "      <th>Year</th>\n",
       "      <th>Lag1</th>\n",
       "      <th>Lag2</th>\n",
       "      <th>Lag3</th>\n",
       "      <th>Lag4</th>\n",
       "      <th>Lag5</th>\n",
       "      <th>Volume</th>\n",
       "      <th>Today</th>\n",
       "      <th>Direction</th>\n",
       "    </tr>\n",
       "  </thead>\n",
       "  <tbody>\n",
       "    <tr>\n",
       "      <th>0</th>\n",
       "      <td>2001</td>\n",
       "      <td>0.381</td>\n",
       "      <td>-0.192</td>\n",
       "      <td>-2.624</td>\n",
       "      <td>-1.055</td>\n",
       "      <td>5.010</td>\n",
       "      <td>1.1913</td>\n",
       "      <td>0.959</td>\n",
       "      <td>Up</td>\n",
       "    </tr>\n",
       "    <tr>\n",
       "      <th>1</th>\n",
       "      <td>2001</td>\n",
       "      <td>0.959</td>\n",
       "      <td>0.381</td>\n",
       "      <td>-0.192</td>\n",
       "      <td>-2.624</td>\n",
       "      <td>-1.055</td>\n",
       "      <td>1.2965</td>\n",
       "      <td>1.032</td>\n",
       "      <td>Up</td>\n",
       "    </tr>\n",
       "    <tr>\n",
       "      <th>2</th>\n",
       "      <td>2001</td>\n",
       "      <td>1.032</td>\n",
       "      <td>0.959</td>\n",
       "      <td>0.381</td>\n",
       "      <td>-0.192</td>\n",
       "      <td>-2.624</td>\n",
       "      <td>1.4112</td>\n",
       "      <td>-0.623</td>\n",
       "      <td>Down</td>\n",
       "    </tr>\n",
       "    <tr>\n",
       "      <th>3</th>\n",
       "      <td>2001</td>\n",
       "      <td>-0.623</td>\n",
       "      <td>1.032</td>\n",
       "      <td>0.959</td>\n",
       "      <td>0.381</td>\n",
       "      <td>-0.192</td>\n",
       "      <td>1.2760</td>\n",
       "      <td>0.614</td>\n",
       "      <td>Up</td>\n",
       "    </tr>\n",
       "    <tr>\n",
       "      <th>4</th>\n",
       "      <td>2001</td>\n",
       "      <td>0.614</td>\n",
       "      <td>-0.623</td>\n",
       "      <td>1.032</td>\n",
       "      <td>0.959</td>\n",
       "      <td>0.381</td>\n",
       "      <td>1.2057</td>\n",
       "      <td>0.213</td>\n",
       "      <td>Up</td>\n",
       "    </tr>\n",
       "  </tbody>\n",
       "</table>\n",
       "</div>"
      ],
      "text/plain": [
       "   Year   Lag1   Lag2   Lag3   Lag4   Lag5  Volume  Today Direction\n",
       "0  2001  0.381 -0.192 -2.624 -1.055  5.010  1.1913  0.959        Up\n",
       "1  2001  0.959  0.381 -0.192 -2.624 -1.055  1.2965  1.032        Up\n",
       "2  2001  1.032  0.959  0.381 -0.192 -2.624  1.4112 -0.623      Down\n",
       "3  2001 -0.623  1.032  0.959  0.381 -0.192  1.2760  0.614        Up\n",
       "4  2001  0.614 -0.623  1.032  0.959  0.381  1.2057  0.213        Up"
      ]
     },
     "execution_count": 20,
     "metadata": {},
     "output_type": "execute_result"
    }
   ],
   "source": [
    "Stock = load_data(\"Smarket\")\n",
    "Stock.head()"
   ]
  },
  {
   "cell_type": "code",
   "execution_count": 21,
   "id": "4dd24f44-a087-46d9-b3dc-d7db776fa94b",
   "metadata": {
    "execution": {
     "iopub.execute_input": "2024-05-01T14:16:53.943741Z",
     "iopub.status.busy": "2024-05-01T14:16:53.942982Z",
     "iopub.status.idle": "2024-05-01T14:16:53.962231Z",
     "shell.execute_reply": "2024-05-01T14:16:53.961649Z",
     "shell.execute_reply.started": "2024-05-01T14:16:53.943689Z"
    }
   },
   "outputs": [],
   "source": [
    "formula = \"Today~  Lag1 + Lag2 + Lag3 + Lag4 + Lag5 + Volume - 1\"\n",
    "Y, X = patsy.dmatrices(formula, Stock)\n",
    "Y = np.where(Y> 0, 1, -1)   # Predict on Zero and 1"
   ]
  },
  {
   "cell_type": "markdown",
   "id": "644e2692-33d4-4849-9a31-9de7898808a5",
   "metadata": {},
   "source": [
    "## Carseats Data"
   ]
  },
  {
   "cell_type": "code",
   "execution_count": 35,
   "id": "db67c439-2677-483e-bfe6-b14abf451f96",
   "metadata": {
    "execution": {
     "iopub.execute_input": "2024-05-01T14:17:30.659100Z",
     "iopub.status.busy": "2024-05-01T14:17:30.658210Z",
     "iopub.status.idle": "2024-05-01T14:17:30.681185Z",
     "shell.execute_reply": "2024-05-01T14:17:30.680919Z",
     "shell.execute_reply.started": "2024-05-01T14:17:30.659038Z"
    }
   },
   "outputs": [
    {
     "data": {
      "text/html": [
       "<div>\n",
       "<style scoped>\n",
       "    .dataframe tbody tr th:only-of-type {\n",
       "        vertical-align: middle;\n",
       "    }\n",
       "\n",
       "    .dataframe tbody tr th {\n",
       "        vertical-align: top;\n",
       "    }\n",
       "\n",
       "    .dataframe thead th {\n",
       "        text-align: right;\n",
       "    }\n",
       "</style>\n",
       "<table border=\"1\" class=\"dataframe\">\n",
       "  <thead>\n",
       "    <tr style=\"text-align: right;\">\n",
       "      <th></th>\n",
       "      <th>Sales</th>\n",
       "      <th>CompPrice</th>\n",
       "      <th>Income</th>\n",
       "      <th>Advertising</th>\n",
       "      <th>Population</th>\n",
       "      <th>Price</th>\n",
       "      <th>ShelveLoc</th>\n",
       "      <th>Age</th>\n",
       "      <th>Education</th>\n",
       "      <th>Urban</th>\n",
       "      <th>US</th>\n",
       "    </tr>\n",
       "  </thead>\n",
       "  <tbody>\n",
       "    <tr>\n",
       "      <th>0</th>\n",
       "      <td>9.50</td>\n",
       "      <td>138</td>\n",
       "      <td>73</td>\n",
       "      <td>11</td>\n",
       "      <td>276</td>\n",
       "      <td>120</td>\n",
       "      <td>Bad</td>\n",
       "      <td>42</td>\n",
       "      <td>17</td>\n",
       "      <td>Yes</td>\n",
       "      <td>Yes</td>\n",
       "    </tr>\n",
       "    <tr>\n",
       "      <th>1</th>\n",
       "      <td>11.22</td>\n",
       "      <td>111</td>\n",
       "      <td>48</td>\n",
       "      <td>16</td>\n",
       "      <td>260</td>\n",
       "      <td>83</td>\n",
       "      <td>Good</td>\n",
       "      <td>65</td>\n",
       "      <td>10</td>\n",
       "      <td>Yes</td>\n",
       "      <td>Yes</td>\n",
       "    </tr>\n",
       "    <tr>\n",
       "      <th>2</th>\n",
       "      <td>10.06</td>\n",
       "      <td>113</td>\n",
       "      <td>35</td>\n",
       "      <td>10</td>\n",
       "      <td>269</td>\n",
       "      <td>80</td>\n",
       "      <td>Medium</td>\n",
       "      <td>59</td>\n",
       "      <td>12</td>\n",
       "      <td>Yes</td>\n",
       "      <td>Yes</td>\n",
       "    </tr>\n",
       "    <tr>\n",
       "      <th>3</th>\n",
       "      <td>7.40</td>\n",
       "      <td>117</td>\n",
       "      <td>100</td>\n",
       "      <td>4</td>\n",
       "      <td>466</td>\n",
       "      <td>97</td>\n",
       "      <td>Medium</td>\n",
       "      <td>55</td>\n",
       "      <td>14</td>\n",
       "      <td>Yes</td>\n",
       "      <td>Yes</td>\n",
       "    </tr>\n",
       "    <tr>\n",
       "      <th>4</th>\n",
       "      <td>4.15</td>\n",
       "      <td>141</td>\n",
       "      <td>64</td>\n",
       "      <td>3</td>\n",
       "      <td>340</td>\n",
       "      <td>128</td>\n",
       "      <td>Bad</td>\n",
       "      <td>38</td>\n",
       "      <td>13</td>\n",
       "      <td>Yes</td>\n",
       "      <td>No</td>\n",
       "    </tr>\n",
       "  </tbody>\n",
       "</table>\n",
       "</div>"
      ],
      "text/plain": [
       "   Sales  CompPrice  Income  Advertising  Population  Price ShelveLoc  Age  \\\n",
       "0   9.50        138      73           11         276    120       Bad   42   \n",
       "1  11.22        111      48           16         260     83      Good   65   \n",
       "2  10.06        113      35           10         269     80    Medium   59   \n",
       "3   7.40        117     100            4         466     97    Medium   55   \n",
       "4   4.15        141      64            3         340    128       Bad   38   \n",
       "\n",
       "   Education Urban   US  \n",
       "0         17   Yes  Yes  \n",
       "1         10   Yes  Yes  \n",
       "2         12   Yes  Yes  \n",
       "3         14   Yes  Yes  \n",
       "4         13   Yes   No  "
      ]
     },
     "execution_count": 35,
     "metadata": {},
     "output_type": "execute_result"
    }
   ],
   "source": [
    "Carseats = load_data(\"Carseats\")\n",
    "Carseats.head()"
   ]
  },
  {
   "cell_type": "code",
   "execution_count": 36,
   "id": "1dcf6338-8b40-47e4-bcbe-19396efaa058",
   "metadata": {
    "execution": {
     "iopub.execute_input": "2024-05-01T14:17:30.811566Z",
     "iopub.status.busy": "2024-05-01T14:17:30.810992Z",
     "iopub.status.idle": "2024-05-01T14:17:30.831018Z",
     "shell.execute_reply": "2024-05-01T14:17:30.830392Z",
     "shell.execute_reply.started": "2024-05-01T14:17:30.811522Z"
    }
   },
   "outputs": [],
   "source": [
    "formula = \"Sales~  CompPrice + Income + Advertising+ Population + Price + ShelveLoc + Age + Education + Urban + US\"\n",
    "Y, X = patsy.dmatrices(formula, Carseats)\n",
    "Y = np.where(Y> 8, 1, -1)   # Predict on Zero and 1"
   ]
  },
  {
   "cell_type": "markdown",
   "id": "04659605-aeb6-494b-843b-e1fcd5db0a7f",
   "metadata": {},
   "source": [
    "# Fitting Classifier"
   ]
  },
  {
   "cell_type": "markdown",
   "id": "64f6c230-8999-4a24-94f3-26b236886308",
   "metadata": {},
   "source": [
    "## Splitting"
   ]
  },
  {
   "cell_type": "code",
   "execution_count": 37,
   "id": "b93d22c2-f221-4211-af35-8dd11073fdbf",
   "metadata": {
    "execution": {
     "iopub.execute_input": "2024-05-01T14:17:31.252229Z",
     "iopub.status.busy": "2024-05-01T14:17:31.251589Z",
     "iopub.status.idle": "2024-05-01T14:17:31.260315Z",
     "shell.execute_reply": "2024-05-01T14:17:31.259478Z",
     "shell.execute_reply.started": "2024-05-01T14:17:31.252184Z"
    }
   },
   "outputs": [],
   "source": [
    "X_train, X_test, y_train, y_test = skm.train_test_split(X, Y, test_size = 0.3, random_state = 0)"
   ]
  },
  {
   "cell_type": "markdown",
   "id": "d6b29067-2b65-45be-b49d-671131ce9ac6",
   "metadata": {
    "execution": {
     "iopub.execute_input": "2024-05-01T12:27:41.428294Z",
     "iopub.status.busy": "2024-05-01T12:27:41.427977Z",
     "iopub.status.idle": "2024-05-01T12:27:41.435084Z",
     "shell.execute_reply": "2024-05-01T12:27:41.434456Z",
     "shell.execute_reply.started": "2024-05-01T12:27:41.428274Z"
    }
   },
   "source": [
    "## Fitting"
   ]
  },
  {
   "cell_type": "code",
   "execution_count": 38,
   "id": "378a17f1-267f-4b09-ac8c-fdc781d6df31",
   "metadata": {
    "execution": {
     "iopub.execute_input": "2024-05-01T14:17:31.576107Z",
     "iopub.status.busy": "2024-05-01T14:17:31.575539Z",
     "iopub.status.idle": "2024-05-01T14:17:31.588447Z",
     "shell.execute_reply": "2024-05-01T14:17:31.587889Z",
     "shell.execute_reply.started": "2024-05-01T14:17:31.576066Z"
    }
   },
   "outputs": [
    {
     "data": {
      "text/html": [
       "<style>#sk-container-id-3 {\n",
       "  /* Definition of color scheme common for light and dark mode */\n",
       "  --sklearn-color-text: black;\n",
       "  --sklearn-color-line: gray;\n",
       "  /* Definition of color scheme for unfitted estimators */\n",
       "  --sklearn-color-unfitted-level-0: #fff5e6;\n",
       "  --sklearn-color-unfitted-level-1: #f6e4d2;\n",
       "  --sklearn-color-unfitted-level-2: #ffe0b3;\n",
       "  --sklearn-color-unfitted-level-3: chocolate;\n",
       "  /* Definition of color scheme for fitted estimators */\n",
       "  --sklearn-color-fitted-level-0: #f0f8ff;\n",
       "  --sklearn-color-fitted-level-1: #d4ebff;\n",
       "  --sklearn-color-fitted-level-2: #b3dbfd;\n",
       "  --sklearn-color-fitted-level-3: cornflowerblue;\n",
       "\n",
       "  /* Specific color for light theme */\n",
       "  --sklearn-color-text-on-default-background: var(--sg-text-color, var(--theme-code-foreground, var(--jp-content-font-color1, black)));\n",
       "  --sklearn-color-background: var(--sg-background-color, var(--theme-background, var(--jp-layout-color0, white)));\n",
       "  --sklearn-color-border-box: var(--sg-text-color, var(--theme-code-foreground, var(--jp-content-font-color1, black)));\n",
       "  --sklearn-color-icon: #696969;\n",
       "\n",
       "  @media (prefers-color-scheme: dark) {\n",
       "    /* Redefinition of color scheme for dark theme */\n",
       "    --sklearn-color-text-on-default-background: var(--sg-text-color, var(--theme-code-foreground, var(--jp-content-font-color1, white)));\n",
       "    --sklearn-color-background: var(--sg-background-color, var(--theme-background, var(--jp-layout-color0, #111)));\n",
       "    --sklearn-color-border-box: var(--sg-text-color, var(--theme-code-foreground, var(--jp-content-font-color1, white)));\n",
       "    --sklearn-color-icon: #878787;\n",
       "  }\n",
       "}\n",
       "\n",
       "#sk-container-id-3 {\n",
       "  color: var(--sklearn-color-text);\n",
       "}\n",
       "\n",
       "#sk-container-id-3 pre {\n",
       "  padding: 0;\n",
       "}\n",
       "\n",
       "#sk-container-id-3 input.sk-hidden--visually {\n",
       "  border: 0;\n",
       "  clip: rect(1px 1px 1px 1px);\n",
       "  clip: rect(1px, 1px, 1px, 1px);\n",
       "  height: 1px;\n",
       "  margin: -1px;\n",
       "  overflow: hidden;\n",
       "  padding: 0;\n",
       "  position: absolute;\n",
       "  width: 1px;\n",
       "}\n",
       "\n",
       "#sk-container-id-3 div.sk-dashed-wrapped {\n",
       "  border: 1px dashed var(--sklearn-color-line);\n",
       "  margin: 0 0.4em 0.5em 0.4em;\n",
       "  box-sizing: border-box;\n",
       "  padding-bottom: 0.4em;\n",
       "  background-color: var(--sklearn-color-background);\n",
       "}\n",
       "\n",
       "#sk-container-id-3 div.sk-container {\n",
       "  /* jupyter's `normalize.less` sets `[hidden] { display: none; }`\n",
       "     but bootstrap.min.css set `[hidden] { display: none !important; }`\n",
       "     so we also need the `!important` here to be able to override the\n",
       "     default hidden behavior on the sphinx rendered scikit-learn.org.\n",
       "     See: https://github.com/scikit-learn/scikit-learn/issues/21755 */\n",
       "  display: inline-block !important;\n",
       "  position: relative;\n",
       "}\n",
       "\n",
       "#sk-container-id-3 div.sk-text-repr-fallback {\n",
       "  display: none;\n",
       "}\n",
       "\n",
       "div.sk-parallel-item,\n",
       "div.sk-serial,\n",
       "div.sk-item {\n",
       "  /* draw centered vertical line to link estimators */\n",
       "  background-image: linear-gradient(var(--sklearn-color-text-on-default-background), var(--sklearn-color-text-on-default-background));\n",
       "  background-size: 2px 100%;\n",
       "  background-repeat: no-repeat;\n",
       "  background-position: center center;\n",
       "}\n",
       "\n",
       "/* Parallel-specific style estimator block */\n",
       "\n",
       "#sk-container-id-3 div.sk-parallel-item::after {\n",
       "  content: \"\";\n",
       "  width: 100%;\n",
       "  border-bottom: 2px solid var(--sklearn-color-text-on-default-background);\n",
       "  flex-grow: 1;\n",
       "}\n",
       "\n",
       "#sk-container-id-3 div.sk-parallel {\n",
       "  display: flex;\n",
       "  align-items: stretch;\n",
       "  justify-content: center;\n",
       "  background-color: var(--sklearn-color-background);\n",
       "  position: relative;\n",
       "}\n",
       "\n",
       "#sk-container-id-3 div.sk-parallel-item {\n",
       "  display: flex;\n",
       "  flex-direction: column;\n",
       "}\n",
       "\n",
       "#sk-container-id-3 div.sk-parallel-item:first-child::after {\n",
       "  align-self: flex-end;\n",
       "  width: 50%;\n",
       "}\n",
       "\n",
       "#sk-container-id-3 div.sk-parallel-item:last-child::after {\n",
       "  align-self: flex-start;\n",
       "  width: 50%;\n",
       "}\n",
       "\n",
       "#sk-container-id-3 div.sk-parallel-item:only-child::after {\n",
       "  width: 0;\n",
       "}\n",
       "\n",
       "/* Serial-specific style estimator block */\n",
       "\n",
       "#sk-container-id-3 div.sk-serial {\n",
       "  display: flex;\n",
       "  flex-direction: column;\n",
       "  align-items: center;\n",
       "  background-color: var(--sklearn-color-background);\n",
       "  padding-right: 1em;\n",
       "  padding-left: 1em;\n",
       "}\n",
       "\n",
       "\n",
       "/* Toggleable style: style used for estimator/Pipeline/ColumnTransformer box that is\n",
       "clickable and can be expanded/collapsed.\n",
       "- Pipeline and ColumnTransformer use this feature and define the default style\n",
       "- Estimators will overwrite some part of the style using the `sk-estimator` class\n",
       "*/\n",
       "\n",
       "/* Pipeline and ColumnTransformer style (default) */\n",
       "\n",
       "#sk-container-id-3 div.sk-toggleable {\n",
       "  /* Default theme specific background. It is overwritten whether we have a\n",
       "  specific estimator or a Pipeline/ColumnTransformer */\n",
       "  background-color: var(--sklearn-color-background);\n",
       "}\n",
       "\n",
       "/* Toggleable label */\n",
       "#sk-container-id-3 label.sk-toggleable__label {\n",
       "  cursor: pointer;\n",
       "  display: block;\n",
       "  width: 100%;\n",
       "  margin-bottom: 0;\n",
       "  padding: 0.5em;\n",
       "  box-sizing: border-box;\n",
       "  text-align: center;\n",
       "}\n",
       "\n",
       "#sk-container-id-3 label.sk-toggleable__label-arrow:before {\n",
       "  /* Arrow on the left of the label */\n",
       "  content: \"▸\";\n",
       "  float: left;\n",
       "  margin-right: 0.25em;\n",
       "  color: var(--sklearn-color-icon);\n",
       "}\n",
       "\n",
       "#sk-container-id-3 label.sk-toggleable__label-arrow:hover:before {\n",
       "  color: var(--sklearn-color-text);\n",
       "}\n",
       "\n",
       "/* Toggleable content - dropdown */\n",
       "\n",
       "#sk-container-id-3 div.sk-toggleable__content {\n",
       "  max-height: 0;\n",
       "  max-width: 0;\n",
       "  overflow: hidden;\n",
       "  text-align: left;\n",
       "  /* unfitted */\n",
       "  background-color: var(--sklearn-color-unfitted-level-0);\n",
       "}\n",
       "\n",
       "#sk-container-id-3 div.sk-toggleable__content.fitted {\n",
       "  /* fitted */\n",
       "  background-color: var(--sklearn-color-fitted-level-0);\n",
       "}\n",
       "\n",
       "#sk-container-id-3 div.sk-toggleable__content pre {\n",
       "  margin: 0.2em;\n",
       "  border-radius: 0.25em;\n",
       "  color: var(--sklearn-color-text);\n",
       "  /* unfitted */\n",
       "  background-color: var(--sklearn-color-unfitted-level-0);\n",
       "}\n",
       "\n",
       "#sk-container-id-3 div.sk-toggleable__content.fitted pre {\n",
       "  /* unfitted */\n",
       "  background-color: var(--sklearn-color-fitted-level-0);\n",
       "}\n",
       "\n",
       "#sk-container-id-3 input.sk-toggleable__control:checked~div.sk-toggleable__content {\n",
       "  /* Expand drop-down */\n",
       "  max-height: 200px;\n",
       "  max-width: 100%;\n",
       "  overflow: auto;\n",
       "}\n",
       "\n",
       "#sk-container-id-3 input.sk-toggleable__control:checked~label.sk-toggleable__label-arrow:before {\n",
       "  content: \"▾\";\n",
       "}\n",
       "\n",
       "/* Pipeline/ColumnTransformer-specific style */\n",
       "\n",
       "#sk-container-id-3 div.sk-label input.sk-toggleable__control:checked~label.sk-toggleable__label {\n",
       "  color: var(--sklearn-color-text);\n",
       "  background-color: var(--sklearn-color-unfitted-level-2);\n",
       "}\n",
       "\n",
       "#sk-container-id-3 div.sk-label.fitted input.sk-toggleable__control:checked~label.sk-toggleable__label {\n",
       "  background-color: var(--sklearn-color-fitted-level-2);\n",
       "}\n",
       "\n",
       "/* Estimator-specific style */\n",
       "\n",
       "/* Colorize estimator box */\n",
       "#sk-container-id-3 div.sk-estimator input.sk-toggleable__control:checked~label.sk-toggleable__label {\n",
       "  /* unfitted */\n",
       "  background-color: var(--sklearn-color-unfitted-level-2);\n",
       "}\n",
       "\n",
       "#sk-container-id-3 div.sk-estimator.fitted input.sk-toggleable__control:checked~label.sk-toggleable__label {\n",
       "  /* fitted */\n",
       "  background-color: var(--sklearn-color-fitted-level-2);\n",
       "}\n",
       "\n",
       "#sk-container-id-3 div.sk-label label.sk-toggleable__label,\n",
       "#sk-container-id-3 div.sk-label label {\n",
       "  /* The background is the default theme color */\n",
       "  color: var(--sklearn-color-text-on-default-background);\n",
       "}\n",
       "\n",
       "/* On hover, darken the color of the background */\n",
       "#sk-container-id-3 div.sk-label:hover label.sk-toggleable__label {\n",
       "  color: var(--sklearn-color-text);\n",
       "  background-color: var(--sklearn-color-unfitted-level-2);\n",
       "}\n",
       "\n",
       "/* Label box, darken color on hover, fitted */\n",
       "#sk-container-id-3 div.sk-label.fitted:hover label.sk-toggleable__label.fitted {\n",
       "  color: var(--sklearn-color-text);\n",
       "  background-color: var(--sklearn-color-fitted-level-2);\n",
       "}\n",
       "\n",
       "/* Estimator label */\n",
       "\n",
       "#sk-container-id-3 div.sk-label label {\n",
       "  font-family: monospace;\n",
       "  font-weight: bold;\n",
       "  display: inline-block;\n",
       "  line-height: 1.2em;\n",
       "}\n",
       "\n",
       "#sk-container-id-3 div.sk-label-container {\n",
       "  text-align: center;\n",
       "}\n",
       "\n",
       "/* Estimator-specific */\n",
       "#sk-container-id-3 div.sk-estimator {\n",
       "  font-family: monospace;\n",
       "  border: 1px dotted var(--sklearn-color-border-box);\n",
       "  border-radius: 0.25em;\n",
       "  box-sizing: border-box;\n",
       "  margin-bottom: 0.5em;\n",
       "  /* unfitted */\n",
       "  background-color: var(--sklearn-color-unfitted-level-0);\n",
       "}\n",
       "\n",
       "#sk-container-id-3 div.sk-estimator.fitted {\n",
       "  /* fitted */\n",
       "  background-color: var(--sklearn-color-fitted-level-0);\n",
       "}\n",
       "\n",
       "/* on hover */\n",
       "#sk-container-id-3 div.sk-estimator:hover {\n",
       "  /* unfitted */\n",
       "  background-color: var(--sklearn-color-unfitted-level-2);\n",
       "}\n",
       "\n",
       "#sk-container-id-3 div.sk-estimator.fitted:hover {\n",
       "  /* fitted */\n",
       "  background-color: var(--sklearn-color-fitted-level-2);\n",
       "}\n",
       "\n",
       "/* Specification for estimator info (e.g. \"i\" and \"?\") */\n",
       "\n",
       "/* Common style for \"i\" and \"?\" */\n",
       "\n",
       ".sk-estimator-doc-link,\n",
       "a:link.sk-estimator-doc-link,\n",
       "a:visited.sk-estimator-doc-link {\n",
       "  float: right;\n",
       "  font-size: smaller;\n",
       "  line-height: 1em;\n",
       "  font-family: monospace;\n",
       "  background-color: var(--sklearn-color-background);\n",
       "  border-radius: 1em;\n",
       "  height: 1em;\n",
       "  width: 1em;\n",
       "  text-decoration: none !important;\n",
       "  margin-left: 1ex;\n",
       "  /* unfitted */\n",
       "  border: var(--sklearn-color-unfitted-level-1) 1pt solid;\n",
       "  color: var(--sklearn-color-unfitted-level-1);\n",
       "}\n",
       "\n",
       ".sk-estimator-doc-link.fitted,\n",
       "a:link.sk-estimator-doc-link.fitted,\n",
       "a:visited.sk-estimator-doc-link.fitted {\n",
       "  /* fitted */\n",
       "  border: var(--sklearn-color-fitted-level-1) 1pt solid;\n",
       "  color: var(--sklearn-color-fitted-level-1);\n",
       "}\n",
       "\n",
       "/* On hover */\n",
       "div.sk-estimator:hover .sk-estimator-doc-link:hover,\n",
       ".sk-estimator-doc-link:hover,\n",
       "div.sk-label-container:hover .sk-estimator-doc-link:hover,\n",
       ".sk-estimator-doc-link:hover {\n",
       "  /* unfitted */\n",
       "  background-color: var(--sklearn-color-unfitted-level-3);\n",
       "  color: var(--sklearn-color-background);\n",
       "  text-decoration: none;\n",
       "}\n",
       "\n",
       "div.sk-estimator.fitted:hover .sk-estimator-doc-link.fitted:hover,\n",
       ".sk-estimator-doc-link.fitted:hover,\n",
       "div.sk-label-container:hover .sk-estimator-doc-link.fitted:hover,\n",
       ".sk-estimator-doc-link.fitted:hover {\n",
       "  /* fitted */\n",
       "  background-color: var(--sklearn-color-fitted-level-3);\n",
       "  color: var(--sklearn-color-background);\n",
       "  text-decoration: none;\n",
       "}\n",
       "\n",
       "/* Span, style for the box shown on hovering the info icon */\n",
       ".sk-estimator-doc-link span {\n",
       "  display: none;\n",
       "  z-index: 9999;\n",
       "  position: relative;\n",
       "  font-weight: normal;\n",
       "  right: .2ex;\n",
       "  padding: .5ex;\n",
       "  margin: .5ex;\n",
       "  width: min-content;\n",
       "  min-width: 20ex;\n",
       "  max-width: 50ex;\n",
       "  color: var(--sklearn-color-text);\n",
       "  box-shadow: 2pt 2pt 4pt #999;\n",
       "  /* unfitted */\n",
       "  background: var(--sklearn-color-unfitted-level-0);\n",
       "  border: .5pt solid var(--sklearn-color-unfitted-level-3);\n",
       "}\n",
       "\n",
       ".sk-estimator-doc-link.fitted span {\n",
       "  /* fitted */\n",
       "  background: var(--sklearn-color-fitted-level-0);\n",
       "  border: var(--sklearn-color-fitted-level-3);\n",
       "}\n",
       "\n",
       ".sk-estimator-doc-link:hover span {\n",
       "  display: block;\n",
       "}\n",
       "\n",
       "/* \"?\"-specific style due to the `<a>` HTML tag */\n",
       "\n",
       "#sk-container-id-3 a.estimator_doc_link {\n",
       "  float: right;\n",
       "  font-size: 1rem;\n",
       "  line-height: 1em;\n",
       "  font-family: monospace;\n",
       "  background-color: var(--sklearn-color-background);\n",
       "  border-radius: 1rem;\n",
       "  height: 1rem;\n",
       "  width: 1rem;\n",
       "  text-decoration: none;\n",
       "  /* unfitted */\n",
       "  color: var(--sklearn-color-unfitted-level-1);\n",
       "  border: var(--sklearn-color-unfitted-level-1) 1pt solid;\n",
       "}\n",
       "\n",
       "#sk-container-id-3 a.estimator_doc_link.fitted {\n",
       "  /* fitted */\n",
       "  border: var(--sklearn-color-fitted-level-1) 1pt solid;\n",
       "  color: var(--sklearn-color-fitted-level-1);\n",
       "}\n",
       "\n",
       "/* On hover */\n",
       "#sk-container-id-3 a.estimator_doc_link:hover {\n",
       "  /* unfitted */\n",
       "  background-color: var(--sklearn-color-unfitted-level-3);\n",
       "  color: var(--sklearn-color-background);\n",
       "  text-decoration: none;\n",
       "}\n",
       "\n",
       "#sk-container-id-3 a.estimator_doc_link.fitted:hover {\n",
       "  /* fitted */\n",
       "  background-color: var(--sklearn-color-fitted-level-3);\n",
       "}\n",
       "</style><div id=\"sk-container-id-3\" class=\"sk-top-container\"><div class=\"sk-text-repr-fallback\"><pre>DecisionTreeClassifier(criterion=&#x27;entropy&#x27;, max_depth=2, random_state=0)</pre><b>In a Jupyter environment, please rerun this cell to show the HTML representation or trust the notebook. <br />On GitHub, the HTML representation is unable to render, please try loading this page with nbviewer.org.</b></div><div class=\"sk-container\" hidden><div class=\"sk-item\"><div class=\"sk-estimator fitted sk-toggleable\"><input class=\"sk-toggleable__control sk-hidden--visually\" id=\"sk-estimator-id-3\" type=\"checkbox\" checked><label for=\"sk-estimator-id-3\" class=\"sk-toggleable__label fitted sk-toggleable__label-arrow fitted\">&nbsp;&nbsp;DecisionTreeClassifier<a class=\"sk-estimator-doc-link fitted\" rel=\"noreferrer\" target=\"_blank\" href=\"https://scikit-learn.org/1.4/modules/generated/sklearn.tree.DecisionTreeClassifier.html\">?<span>Documentation for DecisionTreeClassifier</span></a><span class=\"sk-estimator-doc-link fitted\">i<span>Fitted</span></span></label><div class=\"sk-toggleable__content fitted\"><pre>DecisionTreeClassifier(criterion=&#x27;entropy&#x27;, max_depth=2, random_state=0)</pre></div> </div></div></div></div>"
      ],
      "text/plain": [
       "DecisionTreeClassifier(criterion='entropy', max_depth=2, random_state=0)"
      ]
     },
     "execution_count": 38,
     "metadata": {},
     "output_type": "execute_result"
    }
   ],
   "source": [
    "clf = DTC(criterion = 'entropy', random_state = 0, max_depth = 2)\n",
    "clf.fit(X_train, y_train)"
   ]
  },
  {
   "cell_type": "code",
   "execution_count": 39,
   "id": "b4570ae1-d226-48af-8f57-e46b1b4216ef",
   "metadata": {
    "execution": {
     "iopub.execute_input": "2024-05-01T14:17:31.746858Z",
     "iopub.status.busy": "2024-05-01T14:17:31.746436Z",
     "iopub.status.idle": "2024-05-01T14:17:31.777908Z",
     "shell.execute_reply": "2024-05-01T14:17:31.772429Z",
     "shell.execute_reply.started": "2024-05-01T14:17:31.746839Z"
    }
   },
   "outputs": [
    {
     "data": {
      "text/plain": [
       "0.7"
      ]
     },
     "execution_count": 39,
     "metadata": {},
     "output_type": "execute_result"
    }
   ],
   "source": [
    "accuracy_score(y_train, clf.predict(X_train))"
   ]
  },
  {
   "cell_type": "code",
   "execution_count": 40,
   "id": "b8d772b5-2d5b-4a77-8114-367a24ae16ca",
   "metadata": {
    "execution": {
     "iopub.execute_input": "2024-05-01T14:17:31.988933Z",
     "iopub.status.busy": "2024-05-01T14:17:31.988203Z",
     "iopub.status.idle": "2024-05-01T14:17:32.004512Z",
     "shell.execute_reply": "2024-05-01T14:17:32.001346Z",
     "shell.execute_reply.started": "2024-05-01T14:17:31.988906Z"
    }
   },
   "outputs": [
    {
     "data": {
      "text/plain": [
       "0.6166666666666667"
      ]
     },
     "execution_count": 40,
     "metadata": {},
     "output_type": "execute_result"
    }
   ],
   "source": [
    "accuracy_score(y_test, clf.predict(X_test))"
   ]
  },
  {
   "cell_type": "markdown",
   "id": "97fbcdc0-fea7-494c-97a7-b076ab8df44d",
   "metadata": {},
   "source": [
    "# Adaboosting.M1"
   ]
  },
  {
   "cell_type": "code",
   "execution_count": 41,
   "id": "138b4f12-db7d-4a74-aea8-b181013c0edf",
   "metadata": {
    "execution": {
     "iopub.execute_input": "2024-05-01T14:17:32.256664Z",
     "iopub.status.busy": "2024-05-01T14:17:32.255920Z",
     "iopub.status.idle": "2024-05-01T14:17:32.263373Z",
     "shell.execute_reply": "2024-05-01T14:17:32.262623Z",
     "shell.execute_reply.started": "2024-05-01T14:17:32.256628Z"
    }
   },
   "outputs": [
    {
     "data": {
      "text/plain": [
       "<module 'fun.ml.boosting' from '/Users/dominicleung/projects/fun/fun/ml/boosting/__init__.py'>"
      ]
     },
     "execution_count": 41,
     "metadata": {},
     "output_type": "execute_result"
    }
   ],
   "source": [
    "import fun.ml.boosting as boost\n",
    "import importlib\n",
    "importlib.reload(boost)"
   ]
  },
  {
   "cell_type": "code",
   "execution_count": 49,
   "id": "733b851a-446c-4467-a89a-2cbb78db607d",
   "metadata": {
    "execution": {
     "iopub.execute_input": "2024-05-01T14:18:07.459122Z",
     "iopub.status.busy": "2024-05-01T14:18:07.457253Z",
     "iopub.status.idle": "2024-05-01T14:18:07.524586Z",
     "shell.execute_reply": "2024-05-01T14:18:07.524188Z",
     "shell.execute_reply.started": "2024-05-01T14:18:07.459030Z"
    }
   },
   "outputs": [],
   "source": [
    "clf = DTC(criterion = 'entropy', random_state = 0, max_depth = 3)\n",
    "pred = boost.adaboost_m1(X_train, y_train, clf, M = 50)"
   ]
  },
  {
   "cell_type": "code",
   "execution_count": 50,
   "id": "d77daec4-995c-4790-b8da-04dd66ac9ea4",
   "metadata": {
    "execution": {
     "iopub.execute_input": "2024-05-01T14:18:07.647004Z",
     "iopub.status.busy": "2024-05-01T14:18:07.646693Z",
     "iopub.status.idle": "2024-05-01T14:18:07.656809Z",
     "shell.execute_reply": "2024-05-01T14:18:07.656406Z",
     "shell.execute_reply.started": "2024-05-01T14:18:07.646982Z"
    }
   },
   "outputs": [
    {
     "data": {
      "text/plain": [
       "1.0"
      ]
     },
     "execution_count": 50,
     "metadata": {},
     "output_type": "execute_result"
    }
   ],
   "source": [
    "accuracy_score(y_train, pred(X_train))"
   ]
  },
  {
   "cell_type": "code",
   "execution_count": 51,
   "id": "7e0de06f-5147-439f-9941-cffad17b38fe",
   "metadata": {
    "execution": {
     "iopub.execute_input": "2024-05-01T14:18:08.080298Z",
     "iopub.status.busy": "2024-05-01T14:18:08.079728Z",
     "iopub.status.idle": "2024-05-01T14:18:08.094971Z",
     "shell.execute_reply": "2024-05-01T14:18:08.094338Z",
     "shell.execute_reply.started": "2024-05-01T14:18:08.080262Z"
    }
   },
   "outputs": [
    {
     "data": {
      "text/plain": [
       "0.7833333333333333"
      ]
     },
     "execution_count": 51,
     "metadata": {},
     "output_type": "execute_result"
    }
   ],
   "source": [
    "accuracy_score(y_test, pred(X_test))"
   ]
  },
  {
   "cell_type": "markdown",
   "id": "23a94d9e-f507-42ff-82a6-473dc3707890",
   "metadata": {},
   "source": [
    "## Evaluate"
   ]
  },
  {
   "cell_type": "code",
   "execution_count": 52,
   "id": "91b376e8-d5f7-47fd-aad0-8bebeb2c7750",
   "metadata": {
    "execution": {
     "iopub.execute_input": "2024-05-01T14:18:09.792450Z",
     "iopub.status.busy": "2024-05-01T14:18:09.791985Z",
     "iopub.status.idle": "2024-05-01T14:18:09.797324Z",
     "shell.execute_reply": "2024-05-01T14:18:09.795817Z",
     "shell.execute_reply.started": "2024-05-01T14:18:09.792421Z"
    }
   },
   "outputs": [],
   "source": [
    "all_M = np.arange(1, 400, 20)"
   ]
  },
  {
   "cell_type": "code",
   "execution_count": 53,
   "id": "07eab04b-d39d-47d0-a053-c3a0a5b5b3d3",
   "metadata": {
    "execution": {
     "iopub.execute_input": "2024-05-01T14:18:10.015267Z",
     "iopub.status.busy": "2024-05-01T14:18:10.014269Z",
     "iopub.status.idle": "2024-05-01T14:18:10.021340Z",
     "shell.execute_reply": "2024-05-01T14:18:10.020639Z",
     "shell.execute_reply.started": "2024-05-01T14:18:10.015217Z"
    }
   },
   "outputs": [],
   "source": [
    "clf = DTC(criterion = 'entropy', random_state = 0, max_leaf_nodes = 8)"
   ]
  },
  {
   "cell_type": "code",
   "execution_count": 54,
   "id": "79ad550d-eecd-45dd-ae4b-067c92e4022e",
   "metadata": {
    "execution": {
     "iopub.execute_input": "2024-05-01T14:18:10.212165Z",
     "iopub.status.busy": "2024-05-01T14:18:10.211514Z",
     "iopub.status.idle": "2024-05-01T14:18:13.393574Z",
     "shell.execute_reply": "2024-05-01T14:18:13.393300Z",
     "shell.execute_reply.started": "2024-05-01T14:18:10.212113Z"
    }
   },
   "outputs": [],
   "source": [
    "out_train = np.zeros(len(all_M))\n",
    "out_test = np.zeros(len(all_M))\n",
    "for i, M in enumerate(all_M):\n",
    "    pred = boost.adaboost_m1(X_train, y_train, clf, M = M)\n",
    "    out_train[i] = accuracy_score(y_train, pred(X_train))\n",
    "    out_test[i] = accuracy_score(y_test, pred(X_test))"
   ]
  },
  {
   "cell_type": "code",
   "execution_count": 55,
   "id": "7b003ed5-361a-469a-b5f1-acbac320a330",
   "metadata": {
    "execution": {
     "iopub.execute_input": "2024-05-01T14:18:13.394365Z",
     "iopub.status.busy": "2024-05-01T14:18:13.394277Z",
     "iopub.status.idle": "2024-05-01T14:18:13.474625Z",
     "shell.execute_reply": "2024-05-01T14:18:13.474386Z",
     "shell.execute_reply.started": "2024-05-01T14:18:13.394358Z"
    }
   },
   "outputs": [
    {
     "data": {
      "image/png": "[encoded data removed]",
      "text/plain": [
       "<Figure size 640x480 with 1 Axes>"
      ]
     },
     "metadata": {},
     "output_type": "display_data"
    }
   ],
   "source": [
    "plt.plot(all_M, out_train, color = 'midnightblue', label ='train')\n",
    "plt.plot(all_M, out_test, color = 'lightskyblue', label = 'test')\n",
    "plt.grid()\n",
    "plt.legend()\n",
    "plt.title('Training and Testing Accuracy')\n",
    "plt.xlabel(\"M\");"
   ]
  },
  {
   "cell_type": "code",
   "execution_count": null,
   "id": "a98f78d8-71bc-4b91-8017-8fcd278e37e3",
   "metadata": {},
   "outputs": [],
   "source": []
  },
  {
   "cell_type": "code",
   "execution_count": null,
   "id": "6e243705-827a-4f88-b6d5-6f6fdbb4b76a",
   "metadata": {},
   "outputs": [],
   "source": []
  }
 ],
 "metadata": {
  "kernelspec": {
   "display_name": "Python 3 (ipykernel)",
   "language": "python",
   "name": "python3"
  },
  "language_info": {
   "codemirror_mode": {
    "name": "ipython",
    "version": 3
   },
   "file_extension": ".py",
   "mimetype": "text/x-python",
   "name": "python",
   "nbconvert_exporter": "python",
   "pygments_lexer": "ipython3",
   "version": "3.11.6"
  }
 },
 "nbformat": 4,
 "nbformat_minor": 5
}
