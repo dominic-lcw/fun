{
 "cells": [
  {
   "cell_type": "markdown",
   "id": "e58b79c9-a4af-458d-b117-39fef5c53256",
   "metadata": {},
   "source": [
    "# Taxi Data"
   ]
  },
  {
   "cell_type": "code",
   "execution_count": 1,
   "id": "7d3f3ad3-3858-4edb-9ba2-c01ba054c830",
   "metadata": {
    "execution": {
     "iopub.execute_input": "2024-07-28T02:12:33.271119Z",
     "iopub.status.busy": "2024-07-28T02:12:33.269871Z",
     "iopub.status.idle": "2024-07-28T02:12:42.698764Z",
     "shell.execute_reply": "2024-07-28T02:12:42.698332Z",
     "shell.execute_reply.started": "2024-07-28T02:12:33.271079Z"
    }
   },
   "outputs": [
    {
     "data": {
      "application/vnd.jupyter.widget-view+json": {
       "model_id": "3c94cb0478a44c0eaefec0f79b65e6e5",
       "version_major": 2,
       "version_minor": 0
      },
      "text/plain": [
       "FloatProgress(value=0.0, layout=Layout(width='auto'), style=ProgressStyle(bar_color='black'))"
      ]
     },
     "metadata": {},
     "output_type": "display_data"
    },
    {
     "name": "stdout",
     "output_type": "stream",
     "text": [
      "Month 2023-04 has 3288250 rows\n"
     ]
    }
   ],
   "source": [
    "import duckdb\n",
    "import pyarrow as pa\n",
    "\n",
    "# get Q2 2023 to through april 2024 (latest available data)\n",
    "trips_ls = []\n",
    "months = [\n",
    "    '2023-04',\n",
    "    # '2023-05', \n",
    "    # '2023-06', \n",
    "    # '2023-07', \n",
    "    # '2023-08', \n",
    "    # '2023-09', \n",
    "    # '2023-10', \n",
    "    # '2023-11', \n",
    "    # '2023-12', \n",
    "    # '2024-01', \n",
    "    # '2024-02', \n",
    "    # '2024-03', \n",
    "    # '2024-04'\n",
    "    ]\n",
    "for month in months:\n",
    "    table_path = f'https://d37ci6vzurychx.cloudfront.net/trip-data/yellow_tripdata_{month}.parquet'\n",
    "    \n",
    "    table = duckdb.sql(f\"SELECT * FROM '{table_path}'\").arrow()\n",
    "    trips_ls.append(table)\n",
    "    print(f\"Month {month} has {table.num_rows} rows\")\n",
    "\n",
    "# concatenate all tables\n",
    "trips = pa.concat_tables(trips_ls)"
   ]
  },
  {
   "cell_type": "code",
   "execution_count": 4,
   "id": "f1620d83-c091-426f-bcb6-dfc3f5b3d3d5",
   "metadata": {
    "execution": {
     "iopub.execute_input": "2024-07-28T02:15:14.205721Z",
     "iopub.status.busy": "2024-07-28T02:15:14.204741Z",
     "iopub.status.idle": "2024-07-28T02:15:14.217426Z",
     "shell.execute_reply": "2024-07-28T02:15:14.216912Z",
     "shell.execute_reply.started": "2024-07-28T02:15:14.205665Z"
    }
   },
   "outputs": [],
   "source": [
    "duckdb.sql(f\"CREATE TABLE IF NOT EXISTS main as SELECT * from trips limit 0\")"
   ]
  },
  {
   "cell_type": "code",
   "execution_count": 5,
   "id": "bb870155-648b-4568-a304-3f24f729702e",
   "metadata": {
    "execution": {
     "iopub.execute_input": "2024-07-28T02:15:23.776679Z",
     "iopub.status.busy": "2024-07-28T02:15:23.776152Z",
     "iopub.status.idle": "2024-07-28T02:15:23.796886Z",
     "shell.execute_reply": "2024-07-28T02:15:23.796422Z",
     "shell.execute_reply.started": "2024-07-28T02:15:23.776632Z"
    }
   },
   "outputs": [
    {
     "data": {
      "text/plain": [
       "┌──────────┬──────────────────────┬──────────────────────┬───┬──────────────┬──────────────────────┬─────────────┐\n",
       "│ VendorID │ tpep_pickup_datetime │ tpep_dropoff_datet…  │ … │ total_amount │ congestion_surcharge │ Airport_fee │\n",
       "│  int32   │      timestamp       │      timestamp       │   │    double    │        double        │   double    │\n",
       "├──────────┴──────────────────────┴──────────────────────┴───┴──────────────┴──────────────────────┴─────────────┤\n",
       "│                                                     0 rows                                                     │\n",
       "└────────────────────────────────────────────────────────────────────────────────────────────────────────────────┘"
      ]
     },
     "execution_count": 5,
     "metadata": {},
     "output_type": "execute_result"
    }
   ],
   "source": [
    "duckdb.sql(f\"SELECT * from main\")"
   ]
  },
  {
   "cell_type": "code",
   "execution_count": 7,
   "id": "b41b185d-b4ae-42ca-84f9-98b96e01216d",
   "metadata": {
    "execution": {
     "iopub.execute_input": "2024-07-28T02:16:52.192322Z",
     "iopub.status.busy": "2024-07-28T02:16:52.190888Z",
     "iopub.status.idle": "2024-07-28T02:16:53.572311Z",
     "shell.execute_reply": "2024-07-28T02:16:53.571826Z",
     "shell.execute_reply.started": "2024-07-28T02:16:52.192254Z"
    }
   },
   "outputs": [
    {
     "name": "stdout",
     "output_type": "stream",
     "text": [
      "Collecting jupyterlab-execute-time\n",
      "  Downloading jupyterlab_execute_time-3.1.2-py3-none-any.whl.metadata (6.0 kB)\n",
      "Requirement already satisfied: jupyterlab<5,>=4 in /Users/dominicleung/scratch/env/venv312/lib/python3.12/site-packages (from jupyterlab-execute-time) (4.2.2)\n",
      "Requirement already satisfied: async-lru>=1.0.0 in /Users/dominicleung/scratch/env/venv312/lib/python3.12/site-packages (from jupyterlab<5,>=4->jupyterlab-execute-time) (2.0.4)\n",
      "Requirement already satisfied: httpx>=0.25.0 in /Users/dominicleung/scratch/env/venv312/lib/python3.12/site-packages (from jupyterlab<5,>=4->jupyterlab-execute-time) (0.27.0)\n",
      "Requirement already satisfied: ipykernel>=6.5.0 in /Users/dominicleung/scratch/env/venv312/lib/python3.12/site-packages (from jupyterlab<5,>=4->jupyterlab-execute-time) (6.29.4)\n",
      "Requirement already satisfied: jinja2>=3.0.3 in /Users/dominicleung/scratch/env/venv312/lib/python3.12/site-packages (from jupyterlab<5,>=4->jupyterlab-execute-time) (3.1.4)\n",
      "Requirement already satisfied: jupyter-core in /Users/dominicleung/scratch/env/venv312/lib/python3.12/site-packages (from jupyterlab<5,>=4->jupyterlab-execute-time) (5.7.2)\n",
      "Requirement already satisfied: jupyter-lsp>=2.0.0 in /Users/dominicleung/scratch/env/venv312/lib/python3.12/site-packages (from jupyterlab<5,>=4->jupyterlab-execute-time) (2.2.5)\n",
      "Requirement already satisfied: jupyter-server<3,>=2.4.0 in /Users/dominicleung/scratch/env/venv312/lib/python3.12/site-packages (from jupyterlab<5,>=4->jupyterlab-execute-time) (2.14.1)\n",
      "Requirement already satisfied: jupyterlab-server<3,>=2.27.1 in /Users/dominicleung/scratch/env/venv312/lib/python3.12/site-packages (from jupyterlab<5,>=4->jupyterlab-execute-time) (2.27.2)\n",
      "Requirement already satisfied: notebook-shim>=0.2 in /Users/dominicleung/scratch/env/venv312/lib/python3.12/site-packages (from jupyterlab<5,>=4->jupyterlab-execute-time) (0.2.4)\n",
      "Requirement already satisfied: packaging in /Users/dominicleung/scratch/env/venv312/lib/python3.12/site-packages (from jupyterlab<5,>=4->jupyterlab-execute-time) (24.1)\n",
      "Requirement already satisfied: setuptools>=40.1.0 in /Users/dominicleung/scratch/env/venv312/lib/python3.12/site-packages (from jupyterlab<5,>=4->jupyterlab-execute-time) (70.0.0)\n",
      "Requirement already satisfied: tornado>=6.2.0 in /Users/dominicleung/scratch/env/venv312/lib/python3.12/site-packages (from jupyterlab<5,>=4->jupyterlab-execute-time) (6.4.1)\n",
      "Requirement already satisfied: traitlets in /Users/dominicleung/scratch/env/venv312/lib/python3.12/site-packages (from jupyterlab<5,>=4->jupyterlab-execute-time) (5.14.3)\n",
      "Requirement already satisfied: anyio in /Users/dominicleung/scratch/env/venv312/lib/python3.12/site-packages (from httpx>=0.25.0->jupyterlab<5,>=4->jupyterlab-execute-time) (4.4.0)\n",
      "Requirement already satisfied: certifi in /Users/dominicleung/scratch/env/venv312/lib/python3.12/site-packages (from httpx>=0.25.0->jupyterlab<5,>=4->jupyterlab-execute-time) (2024.6.2)\n",
      "Requirement already satisfied: httpcore==1.* in /Users/dominicleung/scratch/env/venv312/lib/python3.12/site-packages (from httpx>=0.25.0->jupyterlab<5,>=4->jupyterlab-execute-time) (1.0.5)\n",
      "Requirement already satisfied: idna in /Users/dominicleung/scratch/env/venv312/lib/python3.12/site-packages (from httpx>=0.25.0->jupyterlab<5,>=4->jupyterlab-execute-time) (3.7)\n",
      "Requirement already satisfied: sniffio in /Users/dominicleung/scratch/env/venv312/lib/python3.12/site-packages (from httpx>=0.25.0->jupyterlab<5,>=4->jupyterlab-execute-time) (1.3.1)\n",
      "Requirement already satisfied: h11<0.15,>=0.13 in /Users/dominicleung/scratch/env/venv312/lib/python3.12/site-packages (from httpcore==1.*->httpx>=0.25.0->jupyterlab<5,>=4->jupyterlab-execute-time) (0.14.0)\n",
      "Requirement already satisfied: appnope in /Users/dominicleung/scratch/env/venv312/lib/python3.12/site-packages (from ipykernel>=6.5.0->jupyterlab<5,>=4->jupyterlab-execute-time) (0.1.4)\n",
      "Requirement already satisfied: comm>=0.1.1 in /Users/dominicleung/scratch/env/venv312/lib/python3.12/site-packages (from ipykernel>=6.5.0->jupyterlab<5,>=4->jupyterlab-execute-time) (0.2.2)\n",
      "Requirement already satisfied: debugpy>=1.6.5 in /Users/dominicleung/scratch/env/venv312/lib/python3.12/site-packages (from ipykernel>=6.5.0->jupyterlab<5,>=4->jupyterlab-execute-time) (1.8.1)\n",
      "Requirement already satisfied: ipython>=7.23.1 in /Users/dominicleung/scratch/env/venv312/lib/python3.12/site-packages (from ipykernel>=6.5.0->jupyterlab<5,>=4->jupyterlab-execute-time) (8.25.0)\n",
      "Requirement already satisfied: jupyter-client>=6.1.12 in /Users/dominicleung/scratch/env/venv312/lib/python3.12/site-packages (from ipykernel>=6.5.0->jupyterlab<5,>=4->jupyterlab-execute-time) (8.6.2)\n",
      "Requirement already satisfied: matplotlib-inline>=0.1 in /Users/dominicleung/scratch/env/venv312/lib/python3.12/site-packages (from ipykernel>=6.5.0->jupyterlab<5,>=4->jupyterlab-execute-time) (0.1.7)\n",
      "Requirement already satisfied: nest-asyncio in /Users/dominicleung/scratch/env/venv312/lib/python3.12/site-packages (from ipykernel>=6.5.0->jupyterlab<5,>=4->jupyterlab-execute-time) (1.6.0)\n",
      "Requirement already satisfied: psutil in /Users/dominicleung/scratch/env/venv312/lib/python3.12/site-packages (from ipykernel>=6.5.0->jupyterlab<5,>=4->jupyterlab-execute-time) (5.9.8)\n",
      "Requirement already satisfied: pyzmq>=24 in /Users/dominicleung/scratch/env/venv312/lib/python3.12/site-packages (from ipykernel>=6.5.0->jupyterlab<5,>=4->jupyterlab-execute-time) (26.0.3)\n",
      "Requirement already satisfied: MarkupSafe>=2.0 in /Users/dominicleung/scratch/env/venv312/lib/python3.12/site-packages (from jinja2>=3.0.3->jupyterlab<5,>=4->jupyterlab-execute-time) (2.1.5)\n",
      "Requirement already satisfied: platformdirs>=2.5 in /Users/dominicleung/scratch/env/venv312/lib/python3.12/site-packages (from jupyter-core->jupyterlab<5,>=4->jupyterlab-execute-time) (4.2.2)\n",
      "Requirement already satisfied: argon2-cffi>=21.1 in /Users/dominicleung/scratch/env/venv312/lib/python3.12/site-packages (from jupyter-server<3,>=2.4.0->jupyterlab<5,>=4->jupyterlab-execute-time) (23.1.0)\n",
      "Requirement already satisfied: jupyter-events>=0.9.0 in /Users/dominicleung/scratch/env/venv312/lib/python3.12/site-packages (from jupyter-server<3,>=2.4.0->jupyterlab<5,>=4->jupyterlab-execute-time) (0.10.0)\n",
      "Requirement already satisfied: jupyter-server-terminals>=0.4.4 in /Users/dominicleung/scratch/env/venv312/lib/python3.12/site-packages (from jupyter-server<3,>=2.4.0->jupyterlab<5,>=4->jupyterlab-execute-time) (0.5.3)\n",
      "Requirement already satisfied: nbconvert>=6.4.4 in /Users/dominicleung/scratch/env/venv312/lib/python3.12/site-packages (from jupyter-server<3,>=2.4.0->jupyterlab<5,>=4->jupyterlab-execute-time) (7.16.4)\n",
      "Requirement already satisfied: nbformat>=5.3.0 in /Users/dominicleung/scratch/env/venv312/lib/python3.12/site-packages (from jupyter-server<3,>=2.4.0->jupyterlab<5,>=4->jupyterlab-execute-time) (5.10.4)\n",
      "Requirement already satisfied: overrides>=5.0 in /Users/dominicleung/scratch/env/venv312/lib/python3.12/site-packages (from jupyter-server<3,>=2.4.0->jupyterlab<5,>=4->jupyterlab-execute-time) (7.7.0)\n",
      "Requirement already satisfied: prometheus-client>=0.9 in /Users/dominicleung/scratch/env/venv312/lib/python3.12/site-packages (from jupyter-server<3,>=2.4.0->jupyterlab<5,>=4->jupyterlab-execute-time) (0.20.0)\n",
      "Requirement already satisfied: send2trash>=1.8.2 in /Users/dominicleung/scratch/env/venv312/lib/python3.12/site-packages (from jupyter-server<3,>=2.4.0->jupyterlab<5,>=4->jupyterlab-execute-time) (1.8.3)\n",
      "Requirement already satisfied: terminado>=0.8.3 in /Users/dominicleung/scratch/env/venv312/lib/python3.12/site-packages (from jupyter-server<3,>=2.4.0->jupyterlab<5,>=4->jupyterlab-execute-time) (0.18.1)\n",
      "Requirement already satisfied: websocket-client>=1.7 in /Users/dominicleung/scratch/env/venv312/lib/python3.12/site-packages (from jupyter-server<3,>=2.4.0->jupyterlab<5,>=4->jupyterlab-execute-time) (1.8.0)\n",
      "Requirement already satisfied: babel>=2.10 in /Users/dominicleung/scratch/env/venv312/lib/python3.12/site-packages (from jupyterlab-server<3,>=2.27.1->jupyterlab<5,>=4->jupyterlab-execute-time) (2.15.0)\n",
      "Requirement already satisfied: json5>=0.9.0 in /Users/dominicleung/scratch/env/venv312/lib/python3.12/site-packages (from jupyterlab-server<3,>=2.27.1->jupyterlab<5,>=4->jupyterlab-execute-time) (0.9.25)\n",
      "Requirement already satisfied: jsonschema>=4.18.0 in /Users/dominicleung/scratch/env/venv312/lib/python3.12/site-packages (from jupyterlab-server<3,>=2.27.1->jupyterlab<5,>=4->jupyterlab-execute-time) (4.22.0)\n",
      "Requirement already satisfied: requests>=2.31 in /Users/dominicleung/scratch/env/venv312/lib/python3.12/site-packages (from jupyterlab-server<3,>=2.27.1->jupyterlab<5,>=4->jupyterlab-execute-time) (2.32.3)\n",
      "Requirement already satisfied: argon2-cffi-bindings in /Users/dominicleung/scratch/env/venv312/lib/python3.12/site-packages (from argon2-cffi>=21.1->jupyter-server<3,>=2.4.0->jupyterlab<5,>=4->jupyterlab-execute-time) (21.2.0)\n",
      "Requirement already satisfied: decorator in /Users/dominicleung/scratch/env/venv312/lib/python3.12/site-packages (from ipython>=7.23.1->ipykernel>=6.5.0->jupyterlab<5,>=4->jupyterlab-execute-time) (5.1.1)\n",
      "Requirement already satisfied: jedi>=0.16 in /Users/dominicleung/scratch/env/venv312/lib/python3.12/site-packages (from ipython>=7.23.1->ipykernel>=6.5.0->jupyterlab<5,>=4->jupyterlab-execute-time) (0.19.1)\n",
      "Requirement already satisfied: prompt-toolkit<3.1.0,>=3.0.41 in /Users/dominicleung/scratch/env/venv312/lib/python3.12/site-packages (from ipython>=7.23.1->ipykernel>=6.5.0->jupyterlab<5,>=4->jupyterlab-execute-time) (3.0.47)\n",
      "Requirement already satisfied: pygments>=2.4.0 in /Users/dominicleung/scratch/env/venv312/lib/python3.12/site-packages (from ipython>=7.23.1->ipykernel>=6.5.0->jupyterlab<5,>=4->jupyterlab-execute-time) (2.18.0)\n",
      "Requirement already satisfied: stack-data in /Users/dominicleung/scratch/env/venv312/lib/python3.12/site-packages (from ipython>=7.23.1->ipykernel>=6.5.0->jupyterlab<5,>=4->jupyterlab-execute-time) (0.6.3)\n",
      "Requirement already satisfied: pexpect>4.3 in /Users/dominicleung/scratch/env/venv312/lib/python3.12/site-packages (from ipython>=7.23.1->ipykernel>=6.5.0->jupyterlab<5,>=4->jupyterlab-execute-time) (4.9.0)\n",
      "Requirement already satisfied: attrs>=22.2.0 in /Users/dominicleung/scratch/env/venv312/lib/python3.12/site-packages (from jsonschema>=4.18.0->jupyterlab-server<3,>=2.27.1->jupyterlab<5,>=4->jupyterlab-execute-time) (23.2.0)\n",
      "Requirement already satisfied: jsonschema-specifications>=2023.03.6 in /Users/dominicleung/scratch/env/venv312/lib/python3.12/site-packages (from jsonschema>=4.18.0->jupyterlab-server<3,>=2.27.1->jupyterlab<5,>=4->jupyterlab-execute-time) (2023.12.1)\n",
      "Requirement already satisfied: referencing>=0.28.4 in /Users/dominicleung/scratch/env/venv312/lib/python3.12/site-packages (from jsonschema>=4.18.0->jupyterlab-server<3,>=2.27.1->jupyterlab<5,>=4->jupyterlab-execute-time) (0.35.1)\n",
      "Requirement already satisfied: rpds-py>=0.7.1 in /Users/dominicleung/scratch/env/venv312/lib/python3.12/site-packages (from jsonschema>=4.18.0->jupyterlab-server<3,>=2.27.1->jupyterlab<5,>=4->jupyterlab-execute-time) (0.18.1)\n",
      "Requirement already satisfied: python-dateutil>=2.8.2 in /Users/dominicleung/scratch/env/venv312/lib/python3.12/site-packages (from jupyter-client>=6.1.12->ipykernel>=6.5.0->jupyterlab<5,>=4->jupyterlab-execute-time) (2.9.0.post0)\n",
      "Requirement already satisfied: python-json-logger>=2.0.4 in /Users/dominicleung/scratch/env/venv312/lib/python3.12/site-packages (from jupyter-events>=0.9.0->jupyter-server<3,>=2.4.0->jupyterlab<5,>=4->jupyterlab-execute-time) (2.0.7)\n",
      "Requirement already satisfied: pyyaml>=5.3 in /Users/dominicleung/scratch/env/venv312/lib/python3.12/site-packages (from jupyter-events>=0.9.0->jupyter-server<3,>=2.4.0->jupyterlab<5,>=4->jupyterlab-execute-time) (6.0.1)\n",
      "Requirement already satisfied: rfc3339-validator in /Users/dominicleung/scratch/env/venv312/lib/python3.12/site-packages (from jupyter-events>=0.9.0->jupyter-server<3,>=2.4.0->jupyterlab<5,>=4->jupyterlab-execute-time) (0.1.4)\n",
      "Requirement already satisfied: rfc3986-validator>=0.1.1 in /Users/dominicleung/scratch/env/venv312/lib/python3.12/site-packages (from jupyter-events>=0.9.0->jupyter-server<3,>=2.4.0->jupyterlab<5,>=4->jupyterlab-execute-time) (0.1.1)\n",
      "Requirement already satisfied: beautifulsoup4 in /Users/dominicleung/scratch/env/venv312/lib/python3.12/site-packages (from nbconvert>=6.4.4->jupyter-server<3,>=2.4.0->jupyterlab<5,>=4->jupyterlab-execute-time) (4.12.3)\n",
      "Requirement already satisfied: bleach!=5.0.0 in /Users/dominicleung/scratch/env/venv312/lib/python3.12/site-packages (from nbconvert>=6.4.4->jupyter-server<3,>=2.4.0->jupyterlab<5,>=4->jupyterlab-execute-time) (6.1.0)\n",
      "Requirement already satisfied: defusedxml in /Users/dominicleung/scratch/env/venv312/lib/python3.12/site-packages (from nbconvert>=6.4.4->jupyter-server<3,>=2.4.0->jupyterlab<5,>=4->jupyterlab-execute-time) (0.7.1)\n",
      "Requirement already satisfied: jupyterlab-pygments in /Users/dominicleung/scratch/env/venv312/lib/python3.12/site-packages (from nbconvert>=6.4.4->jupyter-server<3,>=2.4.0->jupyterlab<5,>=4->jupyterlab-execute-time) (0.3.0)\n",
      "Requirement already satisfied: mistune<4,>=2.0.3 in /Users/dominicleung/scratch/env/venv312/lib/python3.12/site-packages (from nbconvert>=6.4.4->jupyter-server<3,>=2.4.0->jupyterlab<5,>=4->jupyterlab-execute-time) (3.0.2)\n",
      "Requirement already satisfied: nbclient>=0.5.0 in /Users/dominicleung/scratch/env/venv312/lib/python3.12/site-packages (from nbconvert>=6.4.4->jupyter-server<3,>=2.4.0->jupyterlab<5,>=4->jupyterlab-execute-time) (0.10.0)\n",
      "Requirement already satisfied: pandocfilters>=1.4.1 in /Users/dominicleung/scratch/env/venv312/lib/python3.12/site-packages (from nbconvert>=6.4.4->jupyter-server<3,>=2.4.0->jupyterlab<5,>=4->jupyterlab-execute-time) (1.5.1)\n",
      "Requirement already satisfied: tinycss2 in /Users/dominicleung/scratch/env/venv312/lib/python3.12/site-packages (from nbconvert>=6.4.4->jupyter-server<3,>=2.4.0->jupyterlab<5,>=4->jupyterlab-execute-time) (1.3.0)\n",
      "Requirement already satisfied: fastjsonschema>=2.15 in /Users/dominicleung/scratch/env/venv312/lib/python3.12/site-packages (from nbformat>=5.3.0->jupyter-server<3,>=2.4.0->jupyterlab<5,>=4->jupyterlab-execute-time) (2.20.0)\n",
      "Requirement already satisfied: charset-normalizer<4,>=2 in /Users/dominicleung/scratch/env/venv312/lib/python3.12/site-packages (from requests>=2.31->jupyterlab-server<3,>=2.27.1->jupyterlab<5,>=4->jupyterlab-execute-time) (3.3.2)\n",
      "Requirement already satisfied: urllib3<3,>=1.21.1 in /Users/dominicleung/scratch/env/venv312/lib/python3.12/site-packages (from requests>=2.31->jupyterlab-server<3,>=2.27.1->jupyterlab<5,>=4->jupyterlab-execute-time) (2.2.1)\n",
      "Requirement already satisfied: ptyprocess in /Users/dominicleung/scratch/env/venv312/lib/python3.12/site-packages (from terminado>=0.8.3->jupyter-server<3,>=2.4.0->jupyterlab<5,>=4->jupyterlab-execute-time) (0.7.0)\n",
      "Requirement already satisfied: six>=1.9.0 in /Users/dominicleung/scratch/env/venv312/lib/python3.12/site-packages (from bleach!=5.0.0->nbconvert>=6.4.4->jupyter-server<3,>=2.4.0->jupyterlab<5,>=4->jupyterlab-execute-time) (1.16.0)\n",
      "Requirement already satisfied: webencodings in /Users/dominicleung/scratch/env/venv312/lib/python3.12/site-packages (from bleach!=5.0.0->nbconvert>=6.4.4->jupyter-server<3,>=2.4.0->jupyterlab<5,>=4->jupyterlab-execute-time) (0.5.1)\n",
      "Requirement already satisfied: parso<0.9.0,>=0.8.3 in /Users/dominicleung/scratch/env/venv312/lib/python3.12/site-packages (from jedi>=0.16->ipython>=7.23.1->ipykernel>=6.5.0->jupyterlab<5,>=4->jupyterlab-execute-time) (0.8.4)\n",
      "Requirement already satisfied: fqdn in /Users/dominicleung/scratch/env/venv312/lib/python3.12/site-packages (from jsonschema[format-nongpl]>=4.18.0->jupyter-events>=0.9.0->jupyter-server<3,>=2.4.0->jupyterlab<5,>=4->jupyterlab-execute-time) (1.5.1)\n",
      "Requirement already satisfied: isoduration in /Users/dominicleung/scratch/env/venv312/lib/python3.12/site-packages (from jsonschema[format-nongpl]>=4.18.0->jupyter-events>=0.9.0->jupyter-server<3,>=2.4.0->jupyterlab<5,>=4->jupyterlab-execute-time) (20.11.0)\n",
      "Requirement already satisfied: jsonpointer>1.13 in /Users/dominicleung/scratch/env/venv312/lib/python3.12/site-packages (from jsonschema[format-nongpl]>=4.18.0->jupyter-events>=0.9.0->jupyter-server<3,>=2.4.0->jupyterlab<5,>=4->jupyterlab-execute-time) (3.0.0)\n",
      "Requirement already satisfied: uri-template in /Users/dominicleung/scratch/env/venv312/lib/python3.12/site-packages (from jsonschema[format-nongpl]>=4.18.0->jupyter-events>=0.9.0->jupyter-server<3,>=2.4.0->jupyterlab<5,>=4->jupyterlab-execute-time) (1.3.0)\n",
      "Requirement already satisfied: webcolors>=1.11 in /Users/dominicleung/scratch/env/venv312/lib/python3.12/site-packages (from jsonschema[format-nongpl]>=4.18.0->jupyter-events>=0.9.0->jupyter-server<3,>=2.4.0->jupyterlab<5,>=4->jupyterlab-execute-time) (24.6.0)\n",
      "Requirement already satisfied: wcwidth in /Users/dominicleung/scratch/env/venv312/lib/python3.12/site-packages (from prompt-toolkit<3.1.0,>=3.0.41->ipython>=7.23.1->ipykernel>=6.5.0->jupyterlab<5,>=4->jupyterlab-execute-time) (0.2.13)\n",
      "Requirement already satisfied: cffi>=1.0.1 in /Users/dominicleung/scratch/env/venv312/lib/python3.12/site-packages (from argon2-cffi-bindings->argon2-cffi>=21.1->jupyter-server<3,>=2.4.0->jupyterlab<5,>=4->jupyterlab-execute-time) (1.16.0)\n",
      "Requirement already satisfied: soupsieve>1.2 in /Users/dominicleung/scratch/env/venv312/lib/python3.12/site-packages (from beautifulsoup4->nbconvert>=6.4.4->jupyter-server<3,>=2.4.0->jupyterlab<5,>=4->jupyterlab-execute-time) (2.5)\n",
      "Requirement already satisfied: executing>=1.2.0 in /Users/dominicleung/scratch/env/venv312/lib/python3.12/site-packages (from stack-data->ipython>=7.23.1->ipykernel>=6.5.0->jupyterlab<5,>=4->jupyterlab-execute-time) (2.0.1)\n",
      "Requirement already satisfied: asttokens>=2.1.0 in /Users/dominicleung/scratch/env/venv312/lib/python3.12/site-packages (from stack-data->ipython>=7.23.1->ipykernel>=6.5.0->jupyterlab<5,>=4->jupyterlab-execute-time) (2.4.1)\n",
      "Requirement already satisfied: pure-eval in /Users/dominicleung/scratch/env/venv312/lib/python3.12/site-packages (from stack-data->ipython>=7.23.1->ipykernel>=6.5.0->jupyterlab<5,>=4->jupyterlab-execute-time) (0.2.2)\n",
      "Requirement already satisfied: pycparser in /Users/dominicleung/scratch/env/venv312/lib/python3.12/site-packages (from cffi>=1.0.1->argon2-cffi-bindings->argon2-cffi>=21.1->jupyter-server<3,>=2.4.0->jupyterlab<5,>=4->jupyterlab-execute-time) (2.22)\n",
      "Requirement already satisfied: arrow>=0.15.0 in /Users/dominicleung/scratch/env/venv312/lib/python3.12/site-packages (from isoduration->jsonschema[format-nongpl]>=4.18.0->jupyter-events>=0.9.0->jupyter-server<3,>=2.4.0->jupyterlab<5,>=4->jupyterlab-execute-time) (1.3.0)\n",
      "Requirement already satisfied: types-python-dateutil>=2.8.10 in /Users/dominicleung/scratch/env/venv312/lib/python3.12/site-packages (from arrow>=0.15.0->isoduration->jsonschema[format-nongpl]>=4.18.0->jupyter-events>=0.9.0->jupyter-server<3,>=2.4.0->jupyterlab<5,>=4->jupyterlab-execute-time) (2.9.0.20240316)\n",
      "Downloading jupyterlab_execute_time-3.1.2-py3-none-any.whl (526 kB)\n",
      "\u001b[2K   \u001b[38;2;114;156;31m━━━━━━━━━━━━━━━━━━━━━━━━━━━━━━━━━━━━━━━━\u001b[0m \u001b[32m526.3/526.3 kB\u001b[0m \u001b[31m8.3 MB/s\u001b[0m eta \u001b[36m0:00:00\u001b[0m MB/s\u001b[0m eta \u001b[36m0:00:01\u001b[0m\n",
      "\u001b[?25hInstalling collected packages: jupyterlab-execute-time\n",
      "Successfully installed jupyterlab-execute-time-3.1.2\n",
      "\n",
      "\u001b[1m[\u001b[0m\u001b[34;49mnotice\u001b[0m\u001b[1;39;49m]\u001b[0m\u001b[39;49m A new release of pip is available: \u001b[0m\u001b[31;49m24.1\u001b[0m\u001b[39;49m -> \u001b[0m\u001b[32;49m24.1.2\u001b[0m\n",
      "\u001b[1m[\u001b[0m\u001b[34;49mnotice\u001b[0m\u001b[1;39;49m]\u001b[0m\u001b[39;49m To update, run: \u001b[0m\u001b[32;49mpip install --upgrade pip\u001b[0m\n",
      "Note: you may need to restart the kernel to use updated packages.\n"
     ]
    }
   ],
   "source": [
    "pip install jupyterlab-execute-time"
   ]
  },
  {
   "cell_type": "code",
   "execution_count": null,
   "id": "8d5b536a-44ea-43fb-97ee-1ab02bedf01e",
   "metadata": {},
   "outputs": [],
   "source": []
  }
 ],
 "metadata": {
  "kernelspec": {
   "display_name": "Python 3 (ipykernel)",
   "language": "python",
   "name": "python3"
  },
  "language_info": {
   "codemirror_mode": {
    "name": "ipython",
    "version": 3
   },
   "file_extension": ".py",
   "mimetype": "text/x-python",
   "name": "python",
   "nbconvert_exporter": "python",
   "pygments_lexer": "ipython3",
   "version": "3.12.3"
  }
 },
 "nbformat": 4,
 "nbformat_minor": 5
}
